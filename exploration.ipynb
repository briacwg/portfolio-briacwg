{
  "cells": [
    {
      "cell_type": "markdown",
      "metadata": {},
      "source": [
        "# Dataset Exploration\n",
        "\n",
        "This notebook explores the datasets I collected with their structure, data types, and content."
      ]
    },
    {
      "cell_type": "code",
      "execution_count": null,
      "metadata": {},
      "outputs": [
        {
          "ename": "",
          "evalue": "",
          "output_type": "error",
          "traceback": [
            "\u001b[1;31mRunning cells with 'Python 3.13.7' requires the ipykernel package.\n",
            "\u001b[1;31m<a href='command:jupyter.createPythonEnvAndSelectController'>Create a Python Environment</a> with the required packages.\n",
            "\u001b[1;31mOr install 'ipykernel' using the command: '/opt/homebrew/bin/python3 -m pip install ipykernel -U --user --force-reinstall'"
          ]
        }
      ],
      "source": [
        "import pandas as pd\n",
        "import numpy as np\n",
        "\n",
        "apple_df = pd.read_csv(\"apple_stock.csv\")\n",
        "google_df = pd.read_csv(\"google_stock.csv\")\n",
        "tesla_df = pd.read_csv(\"tesla_stock.csv\")\n",
        "\n",
        "print(f\"Apple dataset shape: {apple_df.shape}\")\n",
        "print(f\"Google dataset shape: {google_df.shape}\")\n",
        "print(f\"Tesla dataset shape: {tesla_df.shape}\")"
      ]
    },
    {
      "cell_type": "markdown",
      "metadata": {},
      "source": [
        "## Dataset 1: Apple Stock "
      ]
    },
    {
      "cell_type": "code",
      "execution_count": null,
      "metadata": {},
      "outputs": [],
      "source": [
        "print(apple_df.tail(7))\n",
        "\n",
        "numerical_columns = apple_df.select_dtypes(include=[np.number]).columns\n",
        "print(list(numerical_columns))\n",
        "\n",
        "apple_numerical = apple_df[numerical_columns].values\n",
        "print(apple_numerical.shape)\n",
        "print(apple_numerical[:5])\n"
      ]
    },
    {
      "cell_type": "code",
      "execution_count": null,
      "metadata": {},
      "outputs": [],
      "source": [
        "print(f\"Total columns: {len(apple_df.columns)}\")\n",
        "print(f\"Numerical columns: {len(numerical_columns)}\")\n",
        "print(f\"Non-numerical columns: {len(apple_df.columns) - len(numerical_columns)}\")\n",
        "\n",
        "print(apple_df.isnull().sum())\n",
        "\n",
        "print(apple_df.dtypes)\n"
      ]
    },
    {
      "cell_type": "markdown",
      "metadata": {},
      "source": [
        "## Dataset 2: Google Stock\n",
        "\n",
        "Let's examine the Google dataset structure and data types."
      ]
    },
    {
      "cell_type": "code",
      "execution_count": null,
      "metadata": {},
      "outputs": [],
      "source": [
        "print(google_df.head(2))\n",
        "\n",
        "print(google_df.dtypes)\n",
        "\n",
        "for col in google_df.columns:\n",
        "    dtype = google_df[col].dtype\n",
        "    print(f\"{col}: {dtype}\")\n",
        "    \n",
        "    # Check if numerical columns might be read as strings\n",
        "    if dtype == 'object':\n",
        "        # Check if it's actually numerical data stored as strings\n",
        "        try:\n",
        "            pd.to_numeric(google_df[col], errors='raise')\n",
        "        except:\n",
        "            return\n",
        "    else:\n",
        "        return\n"
      ]
    },
    {
      "cell_type": "markdown",
      "metadata": {},
      "source": [
        "## Dataset 3: Tesla Stock\n",
        "\n",
        "Let's examine the Tesla dataset by looking at specific rows and columns.\n"
      ]
    },
    {
      "cell_type": "code",
      "execution_count": null,
      "metadata": {},
      "outputs": [],
      "source": [
        "numerical_cols = tesla_df.select_dtypes(include=[np.number]).columns\n",
        "if len(numerical_cols) >= 2:\n",
        "    col1, col2 = numerical_cols[0], numerical_cols[1]\n",
        "    print(f\"Selected columns: {col1} and {col2}\")\n",
        "    \n",
        "    selected_rows = [2, 5, 8]\n",
        "    selected_data = tesla_df.iloc[selected_rows][[col1, col2]]\n",
        "    \n",
        "    print(selected_data)\n",
        "    \n",
        "\n",
        "    for idx in selected_rows:\n",
        "        if idx < len(tesla_df):\n",
        "            print(f\"Row {idx + 1}: {col1}={tesla_df.iloc[idx][col1]:.2f}, {col2}={tesla_df.iloc[idx][col2]:.2f}\")\n",
        "else:\n",
        "    print(tesla_df.iloc[[2, 5, 8]])\n"
      ]
    }
  ],
  "metadata": {
    "kernelspec": {
      "display_name": "Python 3",
      "language": "python",
      "name": "python3"
    },
    "language_info": {
      "name": "python",
      "version": "3.13.7"
    }
  },
  "nbformat": 4,
  "nbformat_minor": 2
}
