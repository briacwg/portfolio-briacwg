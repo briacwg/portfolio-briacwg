{
  "cells": [
    {
      "cell_type": "markdown",
      "metadata": {},
      "source": [
        "# Dataset of Datasets\n",
        "\n",
        "This notebook contains information about various datasets available for analysis.\n"
      ]
    },
    {
      "cell_type": "markdown",
      "metadata": {},
      "source": [
        "## Apple Stock (AAPL)\n",
        "\n",
        "This dataset contains historical stock price data for Apple Inc. (AAPL), collected to track the company's financial performance and market trends over time. The data is essential for understanding Apple's stock behavior and making investment decisions.\n",
        "\n",
        "[Apple Stock Data](https://rhodyexchange.org/dataset/AAPL.csv)\n",
        "\n",
        "1. How has Apple's stock price performed over different time periods, and what factors might explain significant price movements?\n",
        "2. What patterns exist in Apple's trading volume and how do they correlate with major product launches or earnings announcements?\n"
      ]
    },
    {
      "cell_type": "markdown",
      "metadata": {},
      "source": [
        "## Google Stock (GOOG)\n",
        "\n",
        "This dataset contains historical stock price data for Alphabet Inc. (Google), collected to analyze the company's market performance and technological sector trends. The data helps track Google's financial growth and market position in the tech industry.\n",
        "\n",
        "[Google Stock Data](https://rhodyexchange.org/dataset/GOOG.json)\n",
        "\n",
        "1. How does Google's stock performance compare to other major tech companies, and what drives its market valuation?\n",
        "2. What correlation exists between Google's stock price movements and key business developments like acquisitions or regulatory changes?\n"
      ]
    },
    {
      "cell_type": "markdown",
      "metadata": {},
      "source": [
        "## Tesla Stock (TSLA)\n",
        "\n",
        "This dataset contains historical stock price data for Tesla Inc., collected to study the electric vehicle market leader's volatile stock performance and its impact on the automotive and clean energy sectors. The data is crucial for understanding Tesla's unique market dynamics and investor sentiment.\n",
        "\n",
        "[Tesla Stock Data](https://rhodyexchange.org/dataset/TSLA.csv)\n",
        "\n",
        "1. How does Tesla's stock volatility compare to traditional automotive companies, and what factors contribute to its high price swings?\n",
        "2. What relationship exists between Tesla's stock performance and key company milestones like vehicle delivery numbers or energy product launches?\n"
      ]
    },
    {
      "cell_type": "code",
      "execution_count": null,
      "metadata": {},
      "outputs": [
        {
          "ename": "",
          "evalue": "",
          "output_type": "error",
          "traceback": [
            "\u001b[1;31mRunning cells with 'Python 3.13.7' requires the ipykernel package.\n",
            "\u001b[1;31m<a href='command:jupyter.createPythonEnvAndSelectController'>Create a Python Environment</a> with the required packages.\n",
            "\u001b[1;31mOr install 'ipykernel' using the command: '/opt/homebrew/bin/python3 -m pip install ipykernel -U --user --force-reinstall'"
          ]
        }
      ],
      "source": [
        "import pandas as pd\n",
        "import numpy as np\n",
        "from datasets import datasets\n",
        "\n",
        "metadata_list = []\n",
        "\n",
        "for dataset in datasets:\n",
        "    \n",
        "    df = dataset['load_function'](dataset['url'])\n",
        "    \n",
        "    df.to_csv(f\"{dataset['short_name']}.csv\", index=False)\n",
        "    \n",
        "    num_rows = len(df)\n",
        "    num_columns = len(df.columns)\n",
        "    num_numerical = len(df.select_dtypes(include=[np.number]).columns)\n",
        "    \n",
        "    metadata_list.append({\n",
        "        'name': dataset['short_name'],\n",
        "        'source': dataset['url'],\n",
        "        'num_rows': num_rows,\n",
        "        'num_columns': num_columns,\n",
        "        'num_numerical': num_numerical\n",
        "    })\n",
        "    \n"
      ]
    },
    {
      "cell_type": "code",
      "execution_count": null,
      "metadata": {},
      "outputs": [],
      "source": [
        "metadata_df = pd.DataFrame(metadata_list)\n",
        "\n",
        "print(metadata_df)\n",
        "\n",
        "print(f\"Total datasets: {len(metadata_df)}\")\n",
        "print(f\"Total rows across all datasets: {metadata_df['num_rows'].sum()}\")\n",
        "print(f\"Average columns per dataset: {metadata_df['num_columns'].mean():.1f}\")\n",
        "print(f\"Average numerical columns per dataset: {metadata_df['num_numerical'].mean():.1f}\")\n"
      ]
    }
  ],
  "metadata": {
    "kernelspec": {
      "display_name": "Python 3",
      "language": "python",
      "name": "python3"
    },
    "language_info": {
      "name": "python",
      "version": "3.13.7"
    }
  },
  "nbformat": 4,
  "nbformat_minor": 2
}
